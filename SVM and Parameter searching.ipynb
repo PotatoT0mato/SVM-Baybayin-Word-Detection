{
 "cells": [
  {
   "cell_type": "code",
   "execution_count": 1,
   "id": "2ce10b46",
   "metadata": {},
   "outputs": [],
   "source": [
    "import os\n",
    "import numpy as np\n",
    "import cv2\n",
    "import matplotlib.pyplot as plt\n",
    "import pickle\n",
    "import random\n",
    "from sklearn.model_selection import train_test_split\n",
    "from sklearn.svm import SVC\n",
    "import pandas as pd\n",
    "from tqdm import tqdm\n",
    "import pickle\n",
    "from sklearn.model_selection import GridSearchCV"
   ]
  },
  {
   "cell_type": "code",
   "execution_count": 2,
   "id": "0b48f24e",
   "metadata": {},
   "outputs": [],
   "source": [
    "dir = 'Tensorflow\\workspace\\images\\\\train 9'\n",
    "label_map = pd.read_csv('baybayin character 8.csv')"
   ]
  },
  {
   "cell_type": "code",
   "execution_count": 3,
   "id": "609bcfcb",
   "metadata": {},
   "outputs": [
    {
     "name": "stdout",
     "output_type": "stream",
     "text": [
      "9900\n"
     ]
    }
   ],
   "source": [
    "data = []\n",
    "\n",
    "for index, row in label_map.iterrows():\n",
    "    category = row['label']\n",
    "    label = row['id']\n",
    "    path = os.path.join(dir, category)\n",
    "\n",
    "    for img in os.listdir(path):\n",
    "        imgpath = os.path.join(path, img)\n",
    "        a_img = cv2.imread(imgpath, 0)\n",
    "\n",
    "        # Apply Gaussian blur to the image\n",
    "        a_img = cv2.GaussianBlur(a_img, (5, 5), cv2.BORDER_DEFAULT)\n",
    "\n",
    "        # Apply Otsu thresholding to the image\n",
    "        _, a_img = cv2.threshold(a_img, 0, 255, cv2.THRESH_BINARY + cv2.THRESH_OTSU)\n",
    "\n",
    "        # Apply edge detection to the image\n",
    "        #a_img = cv2.Canny(a_img, 100, 200)\n",
    "\n",
    "        # Rotate the image randomly between -15 to 15 degrees\n",
    "        rows, cols = a_img.shape[:2]\n",
    "        angle = np.random.randint(-15, 15)\n",
    "        rotation_matrix = cv2.getRotationMatrix2D((cols/2, rows/2), angle, 1)\n",
    "        a_img = cv2.warpAffine(a_img, rotation_matrix, (cols, rows))\n",
    "\n",
    "        a_img = cv2.resize(a_img, (50, 50))\n",
    "        image = np.array(a_img).flatten()\n",
    "\n",
    "        data.append([image, label])\n",
    "\n",
    "print(len(data))"
   ]
  },
  {
   "cell_type": "code",
   "execution_count": 4,
   "id": "4b80eb4b",
   "metadata": {},
   "outputs": [],
   "source": [
    "random.shuffle(data)\n",
    "features = []\n",
    "labels = []\n",
    "\n",
    "for feature,label in data:\n",
    "    features.append(feature)\n",
    "    labels.append(label)"
   ]
  },
  {
   "cell_type": "code",
   "execution_count": 5,
   "id": "32be036d",
   "metadata": {},
   "outputs": [],
   "source": [
    "xtrain, xtest, ytrain, ytest = train_test_split(features, labels, test_size=0.20)"
   ]
  },
  {
   "cell_type": "code",
   "execution_count": 6,
   "id": "dba3807e",
   "metadata": {},
   "outputs": [],
   "source": [
    "checkpoint_dir = \"model_checkpoints/\"\n",
    "\n",
    "if not os.path.exists(checkpoint_dir):\n",
    "    os.makedirs(checkpoint_dir)"
   ]
  },
  {
   "cell_type": "code",
   "execution_count": 7,
   "id": "05b6ab8c",
   "metadata": {},
   "outputs": [
    {
     "name": "stderr",
     "output_type": "stream",
     "text": [
      "Training: 100%|████████████████████████████████████████████████████| 10/10 [19:50<00:00, 119.06s/epoch, accuracy=0.978]\n"
     ]
    }
   ],
   "source": [
    "# Train the model and save checkpoints\n",
    "model = SVC(C= 25, kernel='rbf', gamma = 1e-08, probability=True)\n",
    "\n",
    "progress = tqdm(range(0, 100, 10), desc=\"Training\", unit=\"epoch\")\n",
    "for i in progress:\n",
    "    # Fit the model for each epoch\n",
    "    model.fit(xtrain, ytrain)\n",
    "    # Save the checkpoint\n",
    "    checkpoint_file = os.path.join(checkpoint_dir, f\"model_{i+1}.sav\")\n",
    "    pickle.dump(model, open(checkpoint_file, \"wb\"))\n",
    "    # Calculate and display the accuracy on the test set\n",
    "    accuracy = model.score(xtest, ytest)\n",
    "    progress.set_postfix({\"accuracy\": accuracy})"
   ]
  },
  {
   "cell_type": "code",
   "execution_count": 8,
   "id": "3a5e8a58",
   "metadata": {},
   "outputs": [],
   "source": [
    "# Save the final trained model to a file.\n",
    "final_model_file = \"svm_baybayin_rbf_confusion_v3.sav\"\n",
    "pickle.dump(model, open(final_model_file, 'wb'))"
   ]
  },
  {
   "cell_type": "code",
   "execution_count": 9,
   "id": "66e35b28",
   "metadata": {},
   "outputs": [
    {
     "name": "stdout",
     "output_type": "stream",
     "text": [
      "accuracy 0.9777777777777777\n"
     ]
    }
   ],
   "source": [
    "accuracy = model.score(xtest, ytest)\n",
    "print('accuracy', accuracy)"
   ]
  },
  {
   "cell_type": "code",
   "execution_count": 7,
   "id": "98c9caf5",
   "metadata": {},
   "outputs": [
    {
     "name": "stdout",
     "output_type": "stream",
     "text": [
      "{'C': 0.1, 'gamma': 0.1}\n"
     ]
    }
   ],
   "source": [
    "from sklearn.model_selection import GridSearchCV\n",
    "\n",
    "parameters = {'C': [0.1, 1, 10], 'gamma': [0.1, 0.01, 0.001]}\n",
    "grid_search = GridSearchCV(SVC(kernel='poly'), parameters)\n",
    "grid_search.fit(xtrain, ytrain)\n",
    "\n",
    "best_params = grid_search.best_params_\n",
    "print(best_params)"
   ]
  },
  {
   "cell_type": "code",
   "execution_count": 8,
   "id": "9ba93a37",
   "metadata": {},
   "outputs": [
    {
     "name": "stdout",
     "output_type": "stream",
     "text": [
      "Best Parameters: {'C': 25, 'gamma': 1e-07}\n",
      "Best Accuracy: 0.9804856115107914\n"
     ]
    }
   ],
   "source": [
    "parameters = {'C': [25, 30, 20, 40, 35], 'gamma': [1e-09, 1e-010, 1e-07, 1e-08]}\n",
    "grid_search = GridSearchCV(SVC(kernel='rbf'), parameters)\n",
    "grid_search.fit(xtrain, ytrain)\n",
    " \n",
    "best_params = grid_search.best_params_\n",
    "best_score = grid_search.best_score_\n",
    "\n",
    "print(\"Best Parameters:\", best_params)\n",
    "print(\"Best Accuracy:\", best_score)"
   ]
  },
  {
   "cell_type": "code",
   "execution_count": 12,
   "id": "fb2c3bdb",
   "metadata": {},
   "outputs": [
    {
     "name": "stdout",
     "output_type": "stream",
     "text": [
      "Best Parameters: {'C': 25, 'gamma': 0.01}\n",
      "Best Accuracy: 0.9828333333333333\n"
     ]
    }
   ],
   "source": [
    "parameters = {'C': [25, 30, 20, 1, 10], 'gamma': [0.01, 0.1, 0.0001]}\n",
    "grid_search = GridSearchCV(SVC(kernel='linear'), parameters)\n",
    "grid_search.fit(xtrain, ytrain)\n",
    " \n",
    "best_params = grid_search.best_params_\n",
    "best_score = grid_search.best_score_\n",
    "\n",
    "print(\"Best Parameters:\", best_params)\n",
    "print(\"Best Accuracy:\", best_score)"
   ]
  },
  {
   "cell_type": "code",
   "execution_count": null,
   "id": "af61d743",
   "metadata": {},
   "outputs": [],
   "source": []
  }
 ],
 "metadata": {
  "kernelspec": {
   "display_name": "tfodj",
   "language": "python",
   "name": "tfodj"
  },
  "language_info": {
   "codemirror_mode": {
    "name": "ipython",
    "version": 3
   },
   "file_extension": ".py",
   "mimetype": "text/x-python",
   "name": "python",
   "nbconvert_exporter": "python",
   "pygments_lexer": "ipython3",
   "version": "3.11.7"
  }
 },
 "nbformat": 4,
 "nbformat_minor": 5
}
